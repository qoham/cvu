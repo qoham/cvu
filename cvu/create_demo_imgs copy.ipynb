{
 "cells": [
  {
   "cell_type": "code",
   "execution_count": 1,
   "id": "6e8ccb80",
   "metadata": {},
   "outputs": [
    {
     "name": "stderr",
     "output_type": "stream",
     "text": [
      "Keyword arguments {'generator': <torch._C.Generator object at 0x7f167ab98190>} are not expected by StableDiffusionPipeline and will be ignored.\n"
     ]
    },
    {
     "data": {
      "application/vnd.jupyter.widget-view+json": {
       "model_id": "ef080e0f77924361b8b729187b985fc2",
       "version_major": 2,
       "version_minor": 0
      },
      "text/plain": [
       "Loading pipeline components...:   0%|          | 0/6 [00:00<?, ?it/s]"
      ]
     },
     "metadata": {},
     "output_type": "display_data"
    },
    {
     "name": "stderr",
     "output_type": "stream",
     "text": [
      "You have disabled the safety checker for <class 'diffusers.pipelines.stable_diffusion.pipeline_stable_diffusion.StableDiffusionPipeline'> by passing `safety_checker=None`. Ensure that you abide to the conditions of the Stable Diffusion license and do not expose unfiltered results in services or applications open to the public. Both the diffusers team and Hugging Face strongly recommend to keep the safety filter enabled in all public facing circumstances, disabling it only for use-cases that involve analyzing network behavior or auditing its results. For more information, please have a look at https://github.com/huggingface/diffusers/pull/254 .\n"
     ]
    },
    {
     "data": {
      "application/vnd.jupyter.widget-view+json": {
       "model_id": "19a7c96651314a429f5ba4f72208086f",
       "version_major": 2,
       "version_minor": 0
      },
      "text/plain": [
       "  0%|          | 0/50 [00:00<?, ?it/s]"
      ]
     },
     "metadata": {},
     "output_type": "display_data"
    },
    {
     "data": {
      "application/vnd.jupyter.widget-view+json": {
       "model_id": "65b89c0b168f49b48533c84cab82fdbc",
       "version_major": 2,
       "version_minor": 0
      },
      "text/plain": [
       "  0%|          | 0/50 [00:00<?, ?it/s]"
      ]
     },
     "metadata": {},
     "output_type": "display_data"
    },
    {
     "data": {
      "application/vnd.jupyter.widget-view+json": {
       "model_id": "3e1e48c827464b1c9546c91397a3052e",
       "version_major": 2,
       "version_minor": 0
      },
      "text/plain": [
       "  0%|          | 0/50 [00:00<?, ?it/s]"
      ]
     },
     "metadata": {},
     "output_type": "display_data"
    },
    {
     "data": {
      "application/vnd.jupyter.widget-view+json": {
       "model_id": "5ec3b54ea9994f0fa415c5e4960d16fc",
       "version_major": 2,
       "version_minor": 0
      },
      "text/plain": [
       "  0%|          | 0/50 [00:00<?, ?it/s]"
      ]
     },
     "metadata": {},
     "output_type": "display_data"
    }
   ],
   "source": [
    "import os\n",
    "\n",
    "if True:\n",
    "    os.environ[\"HF_ENDPOINT\"] = \"https://hf-mirror.com\"\n",
    "\n",
    "import sys\n",
    "\n",
    "# `if` block is used to prevent formatting tools (such as autopep8) from reordering these lines.\n",
    "if True:\n",
    "    sys.path.append(\"..\")\n",
    "\n",
    "from utils.evaluate_utils import (\n",
    "    get_sd_15_pipeline,\n",
    "    generate_Dr_image_by_prompts,\n",
    "    get_experiment_unlearn_prompts,\n",
    "    get_experiment_retain_prompts,\n",
    "    get_experiment_adv_prompts,\n",
    "    get_experiment_ti_prompts,\n",
    ")\n",
    "from utils.utils import get_ti_checkpoint\n",
    "\n",
    "import shutil\n",
    "\n",
    "seed = 119\n",
    "\n",
    "concept_list = [\n",
    "    # (\"frog\", 2000),\n",
    "    (\"van_gogh\", 2000),\n",
    "    # (\"nudity\", 2000),\n",
    "    # (\"angelina_jolie\", 2000),\n",
    "]\n",
    "\n",
    "method = \"cvu\"\n",
    "for concept, checkpoint in concept_list:\n",
    "    sd_pipeline = get_sd_15_pipeline(seed=seed)\n",
    "    sd_pipeline.load_lora_weights(\n",
    "        f\"./output/{method}/{concept}/checkpoint-{checkpoint}\", adapter_name=concept\n",
    "    )\n",
    "    sd_pipeline.set_adapters(concept)\n",
    "\n",
    "    # 验证适配器是否正确加载\n",
    "    assert concept in sd_pipeline.get_active_adapters(), f\"加载 {concept} 的适配器失败\"\n",
    "\n",
    "    # 生成遗忘概念的图像\n",
    "    # unlearn_img_dir = f\"./experiment_imgs_tmp/{method}/{concept}/unlearn\"\n",
    "    # if os.path.exists(unlearn_img_dir):\n",
    "    #     shutil.rmtree(unlearn_img_dir)\n",
    "    # os.makedirs(unlearn_img_dir, exist_ok=True)\n",
    "\n",
    "    # generate_Dr_image_by_prompts(\n",
    "    #     sd_pipeline,\n",
    "    #     get_experiment_unlearn_prompts(concept),\n",
    "    #     out_dir=unlearn_img_dir,\n",
    "    #     batch_size=1,\n",
    "    #     seed=seed,\n",
    "    # )\n",
    "\n",
    "    # # 生成保留概念的图像\n",
    "    retain_img_dir = f\"./experiment_imgs_tmp/{method}/{concept}/retain\"\n",
    "    if os.path.exists(retain_img_dir):\n",
    "        shutil.rmtree(retain_img_dir)\n",
    "    os.makedirs(retain_img_dir, exist_ok=True)\n",
    "    generate_Dr_image_by_prompts(\n",
    "        sd_pipeline,\n",
    "        # get_experiment_retain_prompts(concept),\n",
    "        [\"car\", \"cat\", \"plane\", \"bird\"],\n",
    "        out_dir=retain_img_dir,\n",
    "        batch_size=1,\n",
    "        seed=seed,\n",
    "    )\n",
    "    # # 生成对抗prompt的图像\n",
    "    # adv_img_dir = f\"./experiment_imgs_tmp/{method}/{concept}/adv\"\n",
    "    # if os.path.exists(adv_img_dir):\n",
    "    #     shutil.rmtree(adv_img_dir)\n",
    "    # os.makedirs(adv_img_dir, exist_ok=True)\n",
    "    # generate_Dr_image_by_prompts(sd_pipeline, get_experiment_adv_prompts(concept), out_dir=adv_img_dir, batch_size=1, seed=seed)\n",
    "\n",
    "    # 生成文本反转的图像\n",
    "    # ti_img_dir = f\"./experiment_imgs_tmp/{method}/{concept}/ti\"\n",
    "    # if os.path.exists(ti_img_dir):\n",
    "    #     shutil.rmtree(ti_img_dir)\n",
    "    # os.makedirs(ti_img_dir, exist_ok=True)\n",
    "    # ti_path = f\"./ti_output/{concept}/learned_embeds-steps-{get_ti_checkpoint(concept)}.safetensors\"\n",
    "    # sd_pipeline.load_textual_inversion(ti_path)\n",
    "    # generate_Dr_image_by_prompts(\n",
    "    #     sd_pipeline,\n",
    "    #     get_experiment_ti_prompts(concept),\n",
    "    #     out_dir=ti_img_dir,\n",
    "    #     batch_size=1,\n",
    "    #     seed=seed,\n",
    "    # )\n",
    "\n",
    "    # 删除当前适配器\n",
    "    sd_pipeline.delete_adapters(concept)\n",
    "\n",
    "    # 验证清理是否成功\n",
    "    assert len(sd_pipeline.get_active_adapters()) == 0, f\"清理 {concept} 的适配器失败\"\n",
    "    del sd_pipeline"
   ]
  }
 ],
 "metadata": {
  "kernelspec": {
   "display_name": "myconda",
   "language": "python",
   "name": "python3"
  },
  "language_info": {
   "codemirror_mode": {
    "name": "ipython",
    "version": 3
   },
   "file_extension": ".py",
   "mimetype": "text/x-python",
   "name": "python",
   "nbconvert_exporter": "python",
   "pygments_lexer": "ipython3",
   "version": "3.12.4"
  }
 },
 "nbformat": 4,
 "nbformat_minor": 5
}
