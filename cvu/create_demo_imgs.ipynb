{
 "cells": [
  {
   "cell_type": "code",
   "execution_count": 1,
   "id": "6e8ccb80",
   "metadata": {},
   "outputs": [
    {
     "name": "stderr",
     "output_type": "stream",
     "text": [
      "Keyword arguments {'generator': <torch._C.Generator object at 0x7fc9d89ec790>} are not expected by StableDiffusionPipeline and will be ignored.\n"
     ]
    },
    {
     "data": {
      "application/vnd.jupyter.widget-view+json": {
       "model_id": "ebfc34369622443baa7c08895600d1de",
       "version_major": 2,
       "version_minor": 0
      },
      "text/plain": [
       "Loading pipeline components...:   0%|          | 0/6 [00:00<?, ?it/s]"
      ]
     },
     "metadata": {},
     "output_type": "display_data"
    },
    {
     "name": "stderr",
     "output_type": "stream",
     "text": [
      "You have disabled the safety checker for <class 'diffusers.pipelines.stable_diffusion.pipeline_stable_diffusion.StableDiffusionPipeline'> by passing `safety_checker=None`. Ensure that you abide to the conditions of the Stable Diffusion license and do not expose unfiltered results in services or applications open to the public. Both the diffusers team and Hugging Face strongly recommend to keep the safety filter enabled in all public facing circumstances, disabling it only for use-cases that involve analyzing network behavior or auditing its results. For more information, please have a look at https://github.com/huggingface/diffusers/pull/254 .\n"
     ]
    },
    {
     "data": {
      "application/vnd.jupyter.widget-view+json": {
       "model_id": "34309a1e2f714acea2aeeb29cab4ec49",
       "version_major": 2,
       "version_minor": 0
      },
      "text/plain": [
       "  0%|          | 0/50 [00:00<?, ?it/s]"
      ]
     },
     "metadata": {},
     "output_type": "display_data"
    },
    {
     "data": {
      "application/vnd.jupyter.widget-view+json": {
       "model_id": "a873c93744d64e3d949c96dada1f8d37",
       "version_major": 2,
       "version_minor": 0
      },
      "text/plain": [
       "  0%|          | 0/50 [00:00<?, ?it/s]"
      ]
     },
     "metadata": {},
     "output_type": "display_data"
    },
    {
     "data": {
      "application/vnd.jupyter.widget-view+json": {
       "model_id": "dc48a5273db54150ba201b0d9cd27a37",
       "version_major": 2,
       "version_minor": 0
      },
      "text/plain": [
       "  0%|          | 0/50 [00:00<?, ?it/s]"
      ]
     },
     "metadata": {},
     "output_type": "display_data"
    },
    {
     "name": "stderr",
     "output_type": "stream",
     "text": [
      "The new embeddings will be initialized from a multivariate normal distribution that has old embeddings' mean and covariance. As described in this article: https://nlp.stanford.edu/~johnhew/vocab-expansion.html. To disable this, use `mean_resizing=False`\n"
     ]
    },
    {
     "data": {
      "application/vnd.jupyter.widget-view+json": {
       "model_id": "d40581a5319f45e0a5f11ce0af013ddc",
       "version_major": 2,
       "version_minor": 0
      },
      "text/plain": [
       "  0%|          | 0/50 [00:00<?, ?it/s]"
      ]
     },
     "metadata": {},
     "output_type": "display_data"
    },
    {
     "name": "stderr",
     "output_type": "stream",
     "text": [
      "Keyword arguments {'generator': <torch._C.Generator object at 0x7fc9d89ec790>} are not expected by StableDiffusionPipeline and will be ignored.\n"
     ]
    },
    {
     "data": {
      "application/vnd.jupyter.widget-view+json": {
       "model_id": "b737facd2fe2426794b756ff07f053ba",
       "version_major": 2,
       "version_minor": 0
      },
      "text/plain": [
       "Loading pipeline components...:   0%|          | 0/6 [00:00<?, ?it/s]"
      ]
     },
     "metadata": {},
     "output_type": "display_data"
    },
    {
     "name": "stderr",
     "output_type": "stream",
     "text": [
      "You have disabled the safety checker for <class 'diffusers.pipelines.stable_diffusion.pipeline_stable_diffusion.StableDiffusionPipeline'> by passing `safety_checker=None`. Ensure that you abide to the conditions of the Stable Diffusion license and do not expose unfiltered results in services or applications open to the public. Both the diffusers team and Hugging Face strongly recommend to keep the safety filter enabled in all public facing circumstances, disabling it only for use-cases that involve analyzing network behavior or auditing its results. For more information, please have a look at https://github.com/huggingface/diffusers/pull/254 .\n"
     ]
    },
    {
     "data": {
      "application/vnd.jupyter.widget-view+json": {
       "model_id": "aba324c02481494fbc6eb87052648552",
       "version_major": 2,
       "version_minor": 0
      },
      "text/plain": [
       "  0%|          | 0/50 [00:00<?, ?it/s]"
      ]
     },
     "metadata": {},
     "output_type": "display_data"
    },
    {
     "data": {
      "application/vnd.jupyter.widget-view+json": {
       "model_id": "fa1081a4632a451a8863d7b99673cb57",
       "version_major": 2,
       "version_minor": 0
      },
      "text/plain": [
       "  0%|          | 0/50 [00:00<?, ?it/s]"
      ]
     },
     "metadata": {},
     "output_type": "display_data"
    },
    {
     "data": {
      "application/vnd.jupyter.widget-view+json": {
       "model_id": "d6baa52e19344d8892859deae826f0d2",
       "version_major": 2,
       "version_minor": 0
      },
      "text/plain": [
       "  0%|          | 0/50 [00:00<?, ?it/s]"
      ]
     },
     "metadata": {},
     "output_type": "display_data"
    },
    {
     "data": {
      "application/vnd.jupyter.widget-view+json": {
       "model_id": "5508bfa895094456b9a290f820102082",
       "version_major": 2,
       "version_minor": 0
      },
      "text/plain": [
       "  0%|          | 0/50 [00:00<?, ?it/s]"
      ]
     },
     "metadata": {},
     "output_type": "display_data"
    },
    {
     "name": "stderr",
     "output_type": "stream",
     "text": [
      "Keyword arguments {'generator': <torch._C.Generator object at 0x7fc9d89ec790>} are not expected by StableDiffusionPipeline and will be ignored.\n"
     ]
    },
    {
     "data": {
      "application/vnd.jupyter.widget-view+json": {
       "model_id": "90eb51e6998d4bb796d37be9678ef3d6",
       "version_major": 2,
       "version_minor": 0
      },
      "text/plain": [
       "Loading pipeline components...:   0%|          | 0/6 [00:00<?, ?it/s]"
      ]
     },
     "metadata": {},
     "output_type": "display_data"
    },
    {
     "name": "stderr",
     "output_type": "stream",
     "text": [
      "You have disabled the safety checker for <class 'diffusers.pipelines.stable_diffusion.pipeline_stable_diffusion.StableDiffusionPipeline'> by passing `safety_checker=None`. Ensure that you abide to the conditions of the Stable Diffusion license and do not expose unfiltered results in services or applications open to the public. Both the diffusers team and Hugging Face strongly recommend to keep the safety filter enabled in all public facing circumstances, disabling it only for use-cases that involve analyzing network behavior or auditing its results. For more information, please have a look at https://github.com/huggingface/diffusers/pull/254 .\n"
     ]
    },
    {
     "data": {
      "application/vnd.jupyter.widget-view+json": {
       "model_id": "0cc61651ce394aba818c5704aeca947c",
       "version_major": 2,
       "version_minor": 0
      },
      "text/plain": [
       "  0%|          | 0/50 [00:00<?, ?it/s]"
      ]
     },
     "metadata": {},
     "output_type": "display_data"
    },
    {
     "data": {
      "application/vnd.jupyter.widget-view+json": {
       "model_id": "cdbf0474c6f04276bcd22191ffb18fb8",
       "version_major": 2,
       "version_minor": 0
      },
      "text/plain": [
       "  0%|          | 0/50 [00:00<?, ?it/s]"
      ]
     },
     "metadata": {},
     "output_type": "display_data"
    },
    {
     "data": {
      "application/vnd.jupyter.widget-view+json": {
       "model_id": "5f82f2f6a7be431b81aa893508706269",
       "version_major": 2,
       "version_minor": 0
      },
      "text/plain": [
       "  0%|          | 0/50 [00:00<?, ?it/s]"
      ]
     },
     "metadata": {},
     "output_type": "display_data"
    },
    {
     "data": {
      "application/vnd.jupyter.widget-view+json": {
       "model_id": "c853cfcc0ea8463d9e88976c5df939cc",
       "version_major": 2,
       "version_minor": 0
      },
      "text/plain": [
       "  0%|          | 0/50 [00:00<?, ?it/s]"
      ]
     },
     "metadata": {},
     "output_type": "display_data"
    },
    {
     "name": "stderr",
     "output_type": "stream",
     "text": [
      "Keyword arguments {'generator': <torch._C.Generator object at 0x7fc9d89ec790>} are not expected by StableDiffusionPipeline and will be ignored.\n"
     ]
    },
    {
     "data": {
      "application/vnd.jupyter.widget-view+json": {
       "model_id": "5def0f1bcb084bc28a19b7fc8ae5f29d",
       "version_major": 2,
       "version_minor": 0
      },
      "text/plain": [
       "Loading pipeline components...:   0%|          | 0/6 [00:00<?, ?it/s]"
      ]
     },
     "metadata": {},
     "output_type": "display_data"
    },
    {
     "name": "stderr",
     "output_type": "stream",
     "text": [
      "You have disabled the safety checker for <class 'diffusers.pipelines.stable_diffusion.pipeline_stable_diffusion.StableDiffusionPipeline'> by passing `safety_checker=None`. Ensure that you abide to the conditions of the Stable Diffusion license and do not expose unfiltered results in services or applications open to the public. Both the diffusers team and Hugging Face strongly recommend to keep the safety filter enabled in all public facing circumstances, disabling it only for use-cases that involve analyzing network behavior or auditing its results. For more information, please have a look at https://github.com/huggingface/diffusers/pull/254 .\n"
     ]
    },
    {
     "data": {
      "application/vnd.jupyter.widget-view+json": {
       "model_id": "5f697b58de894a98bbf83ab465dd6acd",
       "version_major": 2,
       "version_minor": 0
      },
      "text/plain": [
       "  0%|          | 0/50 [00:00<?, ?it/s]"
      ]
     },
     "metadata": {},
     "output_type": "display_data"
    },
    {
     "data": {
      "application/vnd.jupyter.widget-view+json": {
       "model_id": "4b57bcd93aff4d6ba89fc836177f19d7",
       "version_major": 2,
       "version_minor": 0
      },
      "text/plain": [
       "  0%|          | 0/50 [00:00<?, ?it/s]"
      ]
     },
     "metadata": {},
     "output_type": "display_data"
    },
    {
     "data": {
      "application/vnd.jupyter.widget-view+json": {
       "model_id": "fe13ef77a7b54f25a08dcdf47cabc93b",
       "version_major": 2,
       "version_minor": 0
      },
      "text/plain": [
       "  0%|          | 0/50 [00:00<?, ?it/s]"
      ]
     },
     "metadata": {},
     "output_type": "display_data"
    },
    {
     "data": {
      "application/vnd.jupyter.widget-view+json": {
       "model_id": "6071ee8fac85485481db7c1663a565ad",
       "version_major": 2,
       "version_minor": 0
      },
      "text/plain": [
       "  0%|          | 0/50 [00:00<?, ?it/s]"
      ]
     },
     "metadata": {},
     "output_type": "display_data"
    }
   ],
   "source": [
    "import os\n",
    "if True:\n",
    "    os.environ['HF_ENDPOINT'] = 'https://hf-mirror.com'\n",
    "\n",
    "import sys\n",
    "# `if` block is used to prevent formatting tools (such as autopep8) from reordering these lines.\n",
    "if True:\n",
    "    sys.path.append('..')\n",
    "\n",
    "from utils.evaluate_utils import get_sd_15_pipeline, generate_Dr_image_by_prompts, get_experiment_unlearn_prompts, get_experiment_retain_prompts, get_experiment_adv_prompts, get_experiment_ti_prompts\n",
    "from utils.utils import get_ti_checkpoint\n",
    "\n",
    "import shutil\n",
    "\n",
    "seed = 100\n",
    "\n",
    "concept_list = [\n",
    "    ('frog', 2000),\n",
    "    ('van_gogh', 2000),\n",
    "    ('nudity', 2000),\n",
    "    ('angelina_jolie', 2000),\n",
    "]\n",
    "\n",
    "method = \"cvu\"\n",
    "for concept, checkpoint in concept_list:\n",
    "    sd_pipeline = get_sd_15_pipeline(seed=seed)\n",
    "    sd_pipeline.load_lora_weights(f\"./output/{method}/{concept}/checkpoint-{checkpoint}\", adapter_name=concept)\n",
    "    sd_pipeline.set_adapters(concept)\n",
    "\n",
    "    # 验证适配器是否正确加载\n",
    "    assert concept in sd_pipeline.get_active_adapters(), f\"加载 {concept} 的适配器失败\"\n",
    "\n",
    "    # 生成遗忘概念的图像\n",
    "    unlearn_img_dir = f\"./experiment_imgs/{method}/{concept}/unlearn\"\n",
    "    if os.path.exists(unlearn_img_dir):\n",
    "        shutil.rmtree(unlearn_img_dir)\n",
    "    os.makedirs(unlearn_img_dir, exist_ok=True)\n",
    "\n",
    "    generate_Dr_image_by_prompts(sd_pipeline, get_experiment_unlearn_prompts(concept), out_dir=unlearn_img_dir, batch_size=1, seed=seed)\n",
    "\n",
    "    # 生成保留概念的图像\n",
    "    retain_img_dir = f\"./experiment_imgs/{method}/{concept}/retain\"\n",
    "    if os.path.exists(retain_img_dir):\n",
    "        shutil.rmtree(retain_img_dir)\n",
    "    os.makedirs(retain_img_dir, exist_ok=True)\n",
    "    generate_Dr_image_by_prompts(sd_pipeline, get_experiment_retain_prompts(concept), out_dir=retain_img_dir, batch_size=1, seed=seed)\n",
    "    # 生成对抗prompt的图像\n",
    "    adv_img_dir = f\"./experiment_imgs/{method}/{concept}/adv\"\n",
    "    if os.path.exists(adv_img_dir):\n",
    "        shutil.rmtree(adv_img_dir)\n",
    "    os.makedirs(adv_img_dir, exist_ok=True)\n",
    "    generate_Dr_image_by_prompts(sd_pipeline, get_experiment_adv_prompts(concept), out_dir=adv_img_dir, batch_size=1, seed=seed)\n",
    "    # 生成文本反转的图像\n",
    "    ti_img_dir = f\"./experiment_imgs/{method}/{concept}/ti\"\n",
    "    if os.path.exists(ti_img_dir):\n",
    "        shutil.rmtree(ti_img_dir)\n",
    "    os.makedirs(ti_img_dir, exist_ok=True)\n",
    "    ti_path = f\"./ti_output/{concept}/learned_embeds-steps-{get_ti_checkpoint(concept)}.safetensors\"\n",
    "    sd_pipeline.load_textual_inversion(ti_path)\n",
    "    generate_Dr_image_by_prompts(sd_pipeline, get_experiment_ti_prompts(concept), out_dir=ti_img_dir, batch_size=1, seed=seed)\n",
    "\n",
    "    # 删除当前适配器\n",
    "    sd_pipeline.delete_adapters(concept)\n",
    "\n",
    "    # 验证清理是否成功\n",
    "    assert len(sd_pipeline.get_active_adapters()) == 0, f\"清理 {concept} 的适配器失败\"\n",
    "    del sd_pipeline"
   ]
  }
 ],
 "metadata": {
  "kernelspec": {
   "display_name": "myconda",
   "language": "python",
   "name": "python3"
  },
  "language_info": {
   "codemirror_mode": {
    "name": "ipython",
    "version": 3
   },
   "file_extension": ".py",
   "mimetype": "text/x-python",
   "name": "python",
   "nbconvert_exporter": "python",
   "pygments_lexer": "ipython3",
   "version": "3.12.4"
  }
 },
 "nbformat": 4,
 "nbformat_minor": 5
}
