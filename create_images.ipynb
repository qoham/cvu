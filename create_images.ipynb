{
 "cells": [
  {
   "cell_type": "code",
   "execution_count": null,
   "metadata": {},
   "outputs": [],
   "source": [
    "import os\n",
    "\n",
    "if True:\n",
    "    os.environ[\"HF_ENDPOINT\"] = \"https://hf-mirror.com\"\n",
    "from utils.sd_pipeline_utils import (\n",
    "    generate_unlearn_target_images,\n",
    "    re_generate_unlearn_target_image_by_seqs,\n",
    "    re_generate_unlearn_target_image_by_prompt,\n",
    "    generate_images,\n",
    "    generate_image,\n",
    ")"
   ]
  },
  {
   "cell_type": "code",
   "execution_count": null,
   "metadata": {},
   "outputs": [],
   "source": [
    "concepts = [\n",
    "    # \"airplane\",\n",
    "    # \"car\",\n",
    "    # \"cat\",\n",
    "    # \"frog\",\n",
    "    # \"claude_monet\",\n",
    "    # \"henri_matisse\",\n",
    "    # \"van_gogh\",\n",
    "    # \"picasso\",\n",
    "    # \"nudity\",\n",
    "    # \"angelina_jolie\",\n",
    "    # \"brad_pitt\"\n",
    "]"
   ]
  },
  {
   "cell_type": "code",
   "execution_count": null,
   "metadata": {},
   "outputs": [],
   "source": [
    "# for unlearn_concept in concepts:\n",
    "#     print(f\"generating {unlearn_concept}...\")\n",
    "#     generate_unlearn_target_images(unlearn_concept, batch_size=50, image_num=1000, generate_unlearn=True, generate_target=True)"
   ]
  },
  {
   "cell_type": "code",
   "execution_count": null,
   "metadata": {},
   "outputs": [],
   "source": [
    "# 对于已经生成的图片，如果不满意，可以重新生成（根据序号）\n",
    "# re_generate_unlearn_target_image_by_seqs('brad_pitt', seqs=[\n",
    "#     990\n",
    "# ], generate_unlearn=True, generate_target=False, image_num=1000)\n",
    "\n",
    "# 对于已经生成的图片，如果不满意，可以重新生成（根据提示词）\n",
    "# re_generate_unlearn_target_image_by_prompt(\n",
    "#     'van_gogh',\n",
    "#     prompt='a van gogh style painting',\n",
    "#     generate_unlearn=True, generate_target=False, image_num=1000)"
   ]
  },
  {
   "cell_type": "code",
   "execution_count": null,
   "metadata": {},
   "outputs": [],
   "source": [
    "# from utils.utils import read_file_lines\n",
    "# from pathlib import Path\n",
    "# retain_dir = f\"./data/_retain\"\n",
    "\n",
    "# Path(retain_dir).mkdir(parents=True, exist_ok=True)\n",
    "\n",
    "# retain_prompts = read_file_lines(f\"./prompts/retain.txt\")\n",
    "# print(\"retain_prompts\", retain_prompts)\n",
    "# generate_images(retain_prompts, out_dir=retain_dir, batch_size=50)"
   ]
  },
  {
   "cell_type": "code",
   "execution_count": null,
   "metadata": {},
   "outputs": [],
   "source": [
    "# 对于不满意的保留图片，可以重新生成（根据序号）\n",
    "# seqs = [\n",
    "# 6091\n",
    "# ]\n",
    "# for seq in seqs:\n",
    "#     print(f\"seq: {seq}, prompt: {retain_prompts[seq-1]}\")\n",
    "#     generate_image(prompt=retain_prompts[seq-1], save_path=f\"{retain_dir}/{seq:04}.png\")"
   ]
  },
  {
   "cell_type": "code",
   "execution_count": null,
   "metadata": {},
   "outputs": [],
   "source": [
    "from utils.utils import read_file_lines\n",
    "from pathlib import Path\n",
    "\n",
    "\n",
    "prompt_files = [\n",
    "    \"classifier_angelina_jolie_other\",\n",
    "    \"classifier_frog_other\",\n",
    "    \"classifier_nudity_other\",\n",
    "    \"classifier_van_gogh_other\",\n",
    "]\n",
    "\n",
    "for prompt_file in prompt_files:\n",
    "    img_dir = f\"./data/_{prompt_file}\"\n",
    "    Path(img_dir).mkdir(parents=True, exist_ok=True)\n",
    "    prompts = read_file_lines(f\"./prompts/{prompt_file}.txt\")\n",
    "    print(\"prompts\", prompts)\n",
    "    generate_images(prompts, out_dir=img_dir, batch_size=50)"
   ]
  }
 ],
 "metadata": {
  "kernelspec": {
   "display_name": "myconda",
   "language": "python",
   "name": "python3"
  },
  "language_info": {
   "codemirror_mode": {
    "name": "ipython",
    "version": 3
   },
   "file_extension": ".py",
   "mimetype": "text/x-python",
   "name": "python",
   "nbconvert_exporter": "python",
   "pygments_lexer": "ipython3",
   "version": "3.12.4"
  }
 },
 "nbformat": 4,
 "nbformat_minor": 2
}
