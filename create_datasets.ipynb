{
 "cells": [
  {
   "cell_type": "code",
   "execution_count": 1,
   "metadata": {},
   "outputs": [],
   "source": [
    "from utils.utils import create_unlearn_dataset, create_retain_dataset"
   ]
  },
  {
   "cell_type": "code",
   "execution_count": 2,
   "metadata": {},
   "outputs": [
    {
     "name": "stdout",
     "output_type": "stream",
     "text": [
      "图片目录: /mnt/truly_unlearn/data\n"
     ]
    }
   ],
   "source": [
    "import os\n",
    "\n",
    "concepts = [\n",
    "    # \"airplane\",\n",
    "    # \"car\",\n",
    "    # \"cat\",\n",
    "    # \"frog\",\n",
    "    # \"claude_monet\",\n",
    "    # \"henri_matisse\",\n",
    "    # \"van_gogh\",\n",
    "    # \"picasso\",\n",
    "    # \"nudity\",\n",
    "    # \"angelina_jolie\",\n",
    "    \"brad_pitt\"\n",
    "]\n",
    "\n",
    "data_root = os.getcwd() + \"/data\"\n",
    "print(\"图片目录:\", data_root)"
   ]
  },
  {
   "cell_type": "code",
   "execution_count": 3,
   "metadata": {},
   "outputs": [],
   "source": [
    "for concept in concepts:\n",
    "    create_unlearn_dataset(data_root=data_root, prompt_root='./prompts', unlearn_concept=concept, image_num=1000)"
   ]
  },
  {
   "cell_type": "code",
   "execution_count": 4,
   "metadata": {},
   "outputs": [],
   "source": [
    "# create_retain_dataset(data_root=data_root, prompt_root='./prompts')"
   ]
  }
 ],
 "metadata": {
  "kernelspec": {
   "display_name": "myconda",
   "language": "python",
   "name": "python3"
  },
  "language_info": {
   "codemirror_mode": {
    "name": "ipython",
    "version": 3
   },
   "file_extension": ".py",
   "mimetype": "text/x-python",
   "name": "python",
   "nbconvert_exporter": "python",
   "pygments_lexer": "ipython3",
   "version": "3.12.4"
  }
 },
 "nbformat": 4,
 "nbformat_minor": 2
}
